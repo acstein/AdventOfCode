{
 "cells": [
  {
   "cell_type": "code",
   "execution_count": 1,
   "id": "e8aed4a8-b0f7-4051-bb51-20b7702f44bb",
   "metadata": {},
   "outputs": [],
   "source": [
    "import numpy as np"
   ]
  },
  {
   "cell_type": "code",
   "execution_count": 1,
   "id": "cbad240f-6a24-4338-b441-2663e9cfc1e2",
   "metadata": {},
   "outputs": [],
   "source": [
    "with open(r\"C:\\Users\\alice\\OneDrive\\Desktop\\2024Day2.txt\", 'r') as file:\n",
    "    lines = file.read().split('\\n')\n",
    "data = [list(map(int, l.split(' '))) for l in lines]\n",
    "#print(data)"
   ]
  },
  {
   "cell_type": "code",
   "execution_count": 2,
   "id": "1d12c366-e7c2-4890-96b1-67d319bfdd33",
   "metadata": {},
   "outputs": [
    {
     "name": "stdout",
     "output_type": "stream",
     "text": [
      "220\n"
     ]
    }
   ],
   "source": [
    "\"\"\"\"\n",
    "Part 1\n",
    "\"\"\"\n",
    "safe = 0\n",
    "for report in data:\n",
    "    diff = [a-b for a, b in zip(report, report[1:])]\n",
    "    if all(0<abs(d)<4 for d in diff) and (all(d>=0 for d in diff) or all(d<0 for d in diff)):\n",
    "        safe += 1\n",
    "print(safe) "
   ]
  },
  {
   "cell_type": "code",
   "execution_count": 16,
   "id": "13b855ed-c8d0-4e1c-98ae-8ac444bd4584",
   "metadata": {},
   "outputs": [
    {
     "name": "stdout",
     "output_type": "stream",
     "text": [
      "296\n"
     ]
    }
   ],
   "source": [
    "\"\"\"\n",
    "Part 2\n",
    "\"\"\"\n",
    "\n",
    "def check_array(array):\n",
    "    diff = [a-b for a, b in zip(array, array[1:])]\n",
    "    if all(0<abs(d)<4 for d in diff) and (all(d>=0 for d in diff) or all(d<0 for d in diff)):\n",
    "        return True\n",
    "\n",
    "safe = 0\n",
    "for report in data:\n",
    "    if check_array(report):\n",
    "        safe += 1\n",
    "    else:\n",
    "        length = len(report)\n",
    "        for i, x in enumerate(report):\n",
    "            copy = report.copy()\n",
    "            copy.pop(i)\n",
    "            if check_array(copy):\n",
    "                safe += 1\n",
    "                break\n",
    "\n",
    "print(safe)"
   ]
  },
  {
   "cell_type": "code",
   "execution_count": null,
   "id": "822f4230-b48f-47a9-8bb8-a69abf7bf0f2",
   "metadata": {},
   "outputs": [],
   "source": []
  }
 ],
 "metadata": {
  "kernelspec": {
   "display_name": "Python 3 (ipykernel)",
   "language": "python",
   "name": "python3"
  },
  "language_info": {
   "codemirror_mode": {
    "name": "ipython",
    "version": 3
   },
   "file_extension": ".py",
   "mimetype": "text/x-python",
   "name": "python",
   "nbconvert_exporter": "python",
   "pygments_lexer": "ipython3",
   "version": "3.12.4"
  }
 },
 "nbformat": 4,
 "nbformat_minor": 5
}
