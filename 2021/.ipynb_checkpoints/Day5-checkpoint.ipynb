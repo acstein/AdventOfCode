{
 "cells": [
  {
   "cell_type": "code",
   "execution_count": 14,
   "id": "b0e6266e",
   "metadata": {},
   "outputs": [],
   "source": [
    "import numpy as np\n",
    "import pandas as pd\n",
    "from math import ceil"
   ]
  },
  {
   "cell_type": "code",
   "execution_count": 38,
   "id": "0886c96d",
   "metadata": {},
   "outputs": [],
   "source": [
    "class Map:\n",
    "    def __init__(self, mappy):\n",
    "        self.mappy = mappy\n",
    "        \n",
    "    def input_coords(self, x1, y1, x2, y2):\n",
    "        if x1 == x2:\n",
    "            if y2 < y1:\n",
    "                y1, y2 = y2, y1\n",
    "            self.mappy[y1:y2+1, x1] += 1\n",
    "        elif y1 == y2:\n",
    "            if x2 < x1:\n",
    "                x1, x2 = x2, x1\n",
    "            self.mappy[y1, x1:x2+1] += 1\n",
    "        else:\n",
    "            length = abs(y2-y1)\n",
    "            start_x, start_y = x1, y1\n",
    "            x_rise, y_rise = 1, 1\n",
    "            if x2 < x1:\n",
    "                x_rise = -1\n",
    "            if y2 < y1:\n",
    "                y_rise = -1\n",
    "            for i in range(length+1):\n",
    "                self.mappy[start_y, start_x] += 1\n",
    "                start_x += x_rise\n",
    "                start_y += y_rise\n",
    "            \n",
    "    def overlaps(self):\n",
    "        count = np.count_nonzero(self.mappy > 1)\n",
    "        print(count)"
   ]
  },
  {
   "cell_type": "code",
   "execution_count": 41,
   "id": "dd86bc9f",
   "metadata": {},
   "outputs": [
    {
     "data": {
      "text/plain": [
       "array([[0., 0., 0., 0., 0., 0., 0., 0., 0.],\n",
       "       [0., 1., 0., 0., 0., 0., 0., 0., 0.],\n",
       "       [0., 0., 2., 0., 0., 0., 0., 0., 1.],\n",
       "       [0., 0., 0., 2., 0., 0., 0., 1., 0.],\n",
       "       [0., 0., 0., 0., 2., 0., 1., 0., 0.],\n",
       "       [0., 0., 0., 0., 0., 3., 0., 0., 0.],\n",
       "       [0., 0., 0., 0., 1., 0., 2., 0., 0.],\n",
       "       [0., 0., 0., 1., 0., 0., 0., 2., 0.],\n",
       "       [0., 0., 1., 0., 0., 0., 0., 0., 2.]])"
      ]
     },
     "execution_count": 41,
     "metadata": {},
     "output_type": "execute_result"
    }
   ],
   "source": [
    "mappy = np.zeros([9,9])\n",
    "\n",
    "m = Map(mappy)\n",
    "\n",
    "m.input_coords(1,1,8,8)\n",
    "m.input_coords(8,8,2,2)\n",
    "m.input_coords(2,8,8,2)\n",
    "m.mappy"
   ]
  },
  {
   "cell_type": "code",
   "execution_count": 42,
   "id": "dd35f4a3",
   "metadata": {},
   "outputs": [
    {
     "name": "stdout",
     "output_type": "stream",
     "text": [
      "19258\n"
     ]
    }
   ],
   "source": [
    "mappy = np.zeros([999,999])\n",
    "df = pd.read_excel(r'C:\\Users\\astein\\Desktop\\AdventofCode.xlsx', header=None, sheet_name='Sheet5')\n",
    "\n",
    "m = Map(mappy)\n",
    "for r, x in df.iterrows():\n",
    "    m.input_coords(x[0], x[1], x[2], x[3])\n",
    "    \n",
    "m.overlaps()"
   ]
  },
  {
   "cell_type": "code",
   "execution_count": null,
   "id": "4192fe56",
   "metadata": {},
   "outputs": [],
   "source": []
  },
  {
   "cell_type": "code",
   "execution_count": null,
   "id": "ca6bff08",
   "metadata": {},
   "outputs": [],
   "source": []
  }
 ],
 "metadata": {
  "kernelspec": {
   "display_name": "Python 3",
   "language": "python",
   "name": "python3"
  },
  "language_info": {
   "codemirror_mode": {
    "name": "ipython",
    "version": 3
   },
   "file_extension": ".py",
   "mimetype": "text/x-python",
   "name": "python",
   "nbconvert_exporter": "python",
   "pygments_lexer": "ipython3",
   "version": "3.9.4"
  }
 },
 "nbformat": 4,
 "nbformat_minor": 5
}
