{
 "cells": [
  {
   "cell_type": "code",
   "execution_count": 83,
   "id": "3a016c85-438b-477b-9a3b-d239f09997b7",
   "metadata": {},
   "outputs": [],
   "source": [
    "import numpy as np"
   ]
  },
  {
   "cell_type": "code",
   "execution_count": 82,
   "id": "af2ef1bb-b212-4f56-bf31-c2aea3ab2a81",
   "metadata": {},
   "outputs": [
    {
     "name": "stdout",
     "output_type": "stream",
     "text": [
      "Difference between lists: 3714264\n",
      "Total difference: 18805872\n"
     ]
    }
   ],
   "source": [
    "with open(r'C:\\Users\\alice\\OneDrive\\Desktop\\2024Day1.txt', 'r') as file:\n",
    "    lines = file.read().strip().split('\\n')\n",
    "\n",
    "list1, list2 = zip(*[[l1 for l1 in line.split('   ')] for line in lines])\n",
    "\n",
    "list1 = [int(i) for i in sorted(list1)]\n",
    "list2 = [int(i) for i in sorted(list2)]\n",
    "\n",
    "\"\"\"\n",
    "Part 1\n",
    "\"\"\"\n",
    "difference = np.sum(np.abs(np.array(list2) - np.array(list1)))\n",
    "\n",
    "print(\"Difference between lists:\", difference)\n",
    "\"\"\"\n",
    "Part 2\n",
    "\"\"\"\n",
    "total = 0\n",
    "for i in list1:\n",
    "    if list2.count(i) > 0:\n",
    "        total += i * list2.count(i)\n",
    "        \n",
    "print(\"Total difference:\", total)"
   ]
  }
 ],
 "metadata": {
  "kernelspec": {
   "display_name": "Python 3 (ipykernel)",
   "language": "python",
   "name": "python3"
  },
  "language_info": {
   "codemirror_mode": {
    "name": "ipython",
    "version": 3
   },
   "file_extension": ".py",
   "mimetype": "text/x-python",
   "name": "python",
   "nbconvert_exporter": "python",
   "pygments_lexer": "ipython3",
   "version": "3.12.4"
  }
 },
 "nbformat": 4,
 "nbformat_minor": 5
}
