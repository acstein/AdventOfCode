{
 "cells": [
  {
   "cell_type": "code",
   "execution_count": 37,
   "id": "428e502e",
   "metadata": {},
   "outputs": [],
   "source": [
    "import numpy as np\n",
    "import pandas as pd"
   ]
  },
  {
   "cell_type": "code",
   "execution_count": 41,
   "id": "16848474",
   "metadata": {},
   "outputs": [],
   "source": [
    "def sort_letters(word):\n",
    "    return ''.join(sorted(word))\n",
    "\n",
    "df = pd.read_csv(r\"C:\\Users\\alice\\OneDrive\\Desktop\\codeDay8.csv\", header=None)\n",
    "df = df[0].str.split(' | ', expand=True)\n",
    "df_in = df.iloc[:, :10].map(sort_letters)\n",
    "df_out = df.iloc[:, 11:].map(sort_letters)\n",
    "\n",
    "#display(df_in)\n",
    "#display(df_out)"
   ]
  },
  {
   "cell_type": "code",
   "execution_count": 42,
   "id": "bff6ba35-1d5f-4dd9-896b-2118c25ea4de",
   "metadata": {},
   "outputs": [
    {
     "name": "stdout",
     "output_type": "stream",
     "text": [
      "[3, 1, 1, 1, 2, 2, 2, 1, 1, 2, 0, 2, 1, 1, 1, 2, 1, 1, 3, 2, 1, 1, 1, 0, 1, 2, 1, 0, 0, 1, 1, 1, 0, 0, 0, 2, 0, 1, 1, 1, 1, 1, 0, 3, 1, 1, 1, 2, 1, 3, 1, 1, 3, 0, 1, 1, 1, 2, 2, 1, 1, 3, 1, 3, 1, 2, 2, 0, 0, 0, 3, 1, 3, 1, 2, 2, 2, 4, 2, 1, 0, 1, 2, 0, 3, 2, 3, 1, 2, 0, 1, 2, 2, 3, 1, 1, 0, 1, 4, 2, 2, 2, 1, 4, 1, 0, 1, 2, 0, 2, 1, 2, 0, 1, 2, 1, 1, 2, 4, 0, 2, 2, 1, 0, 1, 1, 1, 0, 2, 2, 1, 1, 3, 1, 2, 1, 2, 1, 1, 2, 1, 2, 1, 1, 2, 1, 3, 1, 3, 2, 0, 2, 1, 0, 3, 2, 2, 0, 1, 1, 1, 0, 1, 1, 1, 2, 1, 2, 0, 3, 1, 2, 0, 1, 2, 1, 2, 2, 2, 2, 1, 0, 1, 1, 2, 2, 3, 2, 0, 1, 1, 0, 0, 1, 0, 1, 4, 2, 1, 0]\n"
     ]
    }
   ],
   "source": [
    "###Part 1###\n",
    "nump = df_out.to_numpy()\n",
    "special_numbers = [2, 4, 3, 7]\n",
    "mask = [[len(item) for item in row] for row in nump]\n",
    "count = [sum([special_numbers.count(i) for i in row]) for row in mask]\n",
    "print(count)"
   ]
  },
  {
   "cell_type": "code",
   "execution_count": 43,
   "id": "d6828a53",
   "metadata": {},
   "outputs": [
    {
     "name": "stdout",
     "output_type": "stream",
     "text": [
      "1007675\n"
     ]
    }
   ],
   "source": [
    "from collections import Counter\n",
    "\n",
    "def find_string(lst, substring, match=True):\n",
    "    substring_count = Counter(substring)\n",
    "    for string in lst:\n",
    "        string_count = Counter(string)\n",
    "        if match:\n",
    "            if all(string_count[char] >= substring_count[char] for char in substring_count):\n",
    "                   return string\n",
    "        else:\n",
    "            if all(substring_count[char] >= string_count[char] for char in string_count):\n",
    "                return string\n",
    "    return None\n",
    "\n",
    "def remove_from_list(lst, value):\n",
    "    index = lst.index(value)\n",
    "    remaining = lst[:index] + lst[index+1:]\n",
    "    return remaining\n",
    "\n",
    "nump = df_in.to_numpy()\n",
    "out = df_out.to_numpy()\n",
    "mask = [[len(item) for item in row] for row in nump]\n",
    "total = 0\n",
    "\n",
    "for i, row in enumerate(mask):\n",
    "    one = nump[i][row.index(2)]\n",
    "    seven = nump[i][row.index(3)]\n",
    "    four = nump[i][row.index(4)]\n",
    "    eight = nump[i][row.index(7)]\n",
    "    \n",
    "    length_five = [nump[i][ii] for ii, e in enumerate(row) if e == 5]\n",
    "    length_six = [nump[i][ii] for ii, e in enumerate(row) if e == 6]\n",
    "\n",
    "    nine = find_string(length_six, four)\n",
    "    remaining = remove_from_list(length_six, nine)\n",
    "    zero = find_string(remaining, one)\n",
    "    six = remove_from_list(remaining, zero)[0]\n",
    "\n",
    "    three = find_string(length_five, one)\n",
    "    remaining = remove_from_list(length_five, three)\n",
    "    five = find_string(remaining, six, False)\n",
    "    two = remove_from_list(remaining, five)[0]\n",
    "    \n",
    "    key = {zero: 0, one: 1, two: 2, three: 3, four: 4, five: 5, six: 6, seven: 7, eight: 8, nine: 9}\n",
    "\n",
    "    answer = int(''.join(map(str, [key[j] for j in out[i]])))\n",
    "\n",
    "    total += answer\n",
    "    \n",
    "print(total)"
   ]
  },
  {
   "cell_type": "code",
   "execution_count": null,
   "id": "97003d16-e120-48be-a3d3-1a14cb4d712d",
   "metadata": {},
   "outputs": [],
   "source": []
  },
  {
   "cell_type": "code",
   "execution_count": null,
   "id": "5451f310-9322-41b4-b311-6c9988dc7070",
   "metadata": {},
   "outputs": [],
   "source": []
  }
 ],
 "metadata": {
  "kernelspec": {
   "display_name": "Python 3 (ipykernel)",
   "language": "python",
   "name": "python3"
  },
  "language_info": {
   "codemirror_mode": {
    "name": "ipython",
    "version": 3
   },
   "file_extension": ".py",
   "mimetype": "text/x-python",
   "name": "python",
   "nbconvert_exporter": "python",
   "pygments_lexer": "ipython3",
   "version": "3.12.4"
  }
 },
 "nbformat": 4,
 "nbformat_minor": 5
}
