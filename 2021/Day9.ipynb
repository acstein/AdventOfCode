{
 "cells": [
  {
   "cell_type": "code",
   "execution_count": 1,
   "id": "ce708fc1-285f-4479-aa4c-eb5356a7477b",
   "metadata": {},
   "outputs": [],
   "source": [
    "import numpy as np"
   ]
  },
  {
   "cell_type": "code",
   "execution_count": 2,
   "id": "997d95d1-56b3-4e54-bc19-17e6c1a2ee6d",
   "metadata": {},
   "outputs": [],
   "source": [
    "with open(r'C:\\Users\\alice\\OneDrive\\Desktop\\Day9.txt', 'r') as file:\n",
    "    contents = file.read()\n",
    "    lines = contents.split('\\n')\n",
    "    numbers = [[int(n) for n in row] for row in lines]"
   ]
  },
  {
   "cell_type": "code",
   "execution_count": 4,
   "id": "de814b4c-680f-4f3f-8a51-afd5182ecd2f",
   "metadata": {},
   "outputs": [
    {
     "name": "stdout",
     "output_type": "stream",
     "text": [
      "562\n"
     ]
    }
   ],
   "source": [
    "def find_local_minima(array): \n",
    "    array = np.pad(array, 1,  mode='constant', constant_values=9)\n",
    "    mask = np.zeros_like(array, dtype=bool)\n",
    "    rows, cols = array.shape\n",
    "\n",
    "    for i in range(1, rows-1):\n",
    "        for j in range(1, cols-1):\n",
    "            window = array[i - 1:i + 2, j - 1:j + 2]\n",
    "            center = array[i, j]\n",
    "            \n",
    "            if np.all(center < window[window != center]): # Discount center in window\n",
    "                mask[i, j] = 1\n",
    "            else:\n",
    "                mask[i, j] = 0\n",
    "\n",
    "    values = array[mask]\n",
    "    return mask, values\n",
    "\n",
    "mask, values = find_local_minima(numbers)\n",
    "#print(\"Input Array:\\n\", numbers)\n",
    "#print(\"Mask:\\n\", mask)\n",
    "#print(\"Values:\\n\", values)\n",
    "\n",
    "result = sum(i+1 for i in values)\n",
    "print(result)"
   ]
  },
  {
   "cell_type": "code",
   "execution_count": null,
   "id": "8bcf2f5e-9648-4bd4-88ca-7da29c04e0db",
   "metadata": {},
   "outputs": [],
   "source": []
  }
 ],
 "metadata": {
  "kernelspec": {
   "display_name": "Python 3 (ipykernel)",
   "language": "python",
   "name": "python3"
  },
  "language_info": {
   "codemirror_mode": {
    "name": "ipython",
    "version": 3
   },
   "file_extension": ".py",
   "mimetype": "text/x-python",
   "name": "python",
   "nbconvert_exporter": "python",
   "pygments_lexer": "ipython3",
   "version": "3.12.4"
  }
 },
 "nbformat": 4,
 "nbformat_minor": 5
}
