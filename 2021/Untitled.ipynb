{
 "cells": [
  {
   "cell_type": "code",
   "execution_count": null,
   "id": "d4dfc6bd-4e7a-4f7d-b09b-3e8b2fd3fed2",
   "metadata": {},
   "outputs": [],
   "source": []
  }
 ],
 "metadata": {
  "kernelspec": {
   "display_name": "",
   "name": ""
  },
  "language_info": {
   "name": ""
  }
 },
 "nbformat": 4,
 "nbformat_minor": 5
}
