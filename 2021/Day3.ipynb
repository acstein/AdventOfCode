{
 "cells": [
  {
   "cell_type": "code",
   "execution_count": 1,
   "id": "e28376b5",
   "metadata": {},
   "outputs": [],
   "source": [
    "import numpy as np\n",
    "import pandas as pd"
   ]
  },
  {
   "cell_type": "code",
   "execution_count": 17,
   "id": "905f2c6d",
   "metadata": {},
   "outputs": [],
   "source": [
    "def fill_up(row):\n",
    "    if len(row) < 12:\n",
    "        fill = 12 - len(row)\n",
    "        output = '0'*fill + row\n",
    "        return output\n",
    "    else:\n",
    "        return row\n",
    "    \n",
    "def binaryToDecimal(binary):\n",
    "    decimal, i = 0, 0\n",
    "    while(binary != 0):\n",
    "        dec = binary % 10\n",
    "        decimal = decimal + dec * pow(2, i)\n",
    "        binary = binary//10\n",
    "        i += 1\n",
    "    return decimal\n",
    "    \n",
    "def find_power(df):\n",
    "    gamma = df.mode().to_numpy()[0]\n",
    "\n",
    "    epsilon_rate = []\n",
    "    gamma_result = []\n",
    "    for i, x in enumerate(gamma):\n",
    "        if x == '0':\n",
    "            epsilon_rate.append('1')\n",
    "            gamma_result.append('0')\n",
    "        else:\n",
    "            epsilon_rate.append('0')\n",
    "            gamma_result.append('1')\n",
    "            \n",
    "    return gamma_result, epsilon_rate\n",
    "\n",
    "def find_most_common(col):\n",
    "    count0 = 0\n",
    "    count1 = 0\n",
    "    for r in col:\n",
    "        if r == 0:\n",
    "            count0 += 1\n",
    "        elif r == 1:\n",
    "            count1 += 1\n",
    "    top = max(count1, count0)\n",
    "    if top == count1:\n",
    "        return 1\n",
    "    else:\n",
    "        return 0\n",
    "\n",
    "def find_life(df):\n",
    "    dummy = df.copy()\n",
    "    for c in dummy.columns:\n",
    "        if len(dummy) > 1:\n",
    "            cv = find_most_common(dummy[c])\n",
    "            dummy = dummy[dummy[c] == cv]  \n",
    "    return dummy.to_numpy()[0]\n",
    "    \n",
    "def find_lifec(df):\n",
    "    dummy = df.copy()\n",
    "    for c in dummy.columns:\n",
    "        if len(dummy) > 1:\n",
    "            cv = find_most_common(dummy[c])\n",
    "            dummy = dummy[dummy[c] != cv]    \n",
    "    return dummy.to_numpy()[0]"
   ]
  },
  {
   "cell_type": "code",
   "execution_count": 18,
   "id": "47239929",
   "metadata": {},
   "outputs": [
    {
     "name": "stdout",
     "output_type": "stream",
     "text": [
      "[0 1 1 0 1 0 0 0 1 1 1 1] [1 1 1 0 0 1 0 0 0 0 0 0]\n",
      "6124992\n"
     ]
    }
   ],
   "source": [
    "df = pd.read_excel(r'C:\\Users\\astein\\Desktop\\AdventofCode.xlsx', header=None, sheet_name='Sheet3')\n",
    "df[0] = df[0].apply(lambda x: fill_up(str(x)))\n",
    "df = df[0].str.split('', expand=True)\n",
    "df = df.drop([0, 13], axis=1)\n",
    "df = df.astype(int)\n",
    "\n",
    "#g, e = find_power(df)\n",
    "\n",
    "#gamma_r = binaryToDecimal(int(''.join(map(str, g))))\n",
    "#epsilon_r = binaryToDecimal(int(''.join(map(str, e))))\n",
    "\n",
    "ox = find_life(df)\n",
    "co2 = find_lifec(df)\n",
    "print(ox, co2)\n",
    "\n",
    "ox, co2 = binaryToDecimal(int(''.join(map(str, ox)))), binaryToDecimal(int(''.join(map(str, co2))))\n",
    "print(ox*co2)"
   ]
  },
  {
   "cell_type": "code",
   "execution_count": null,
   "id": "de67cbeb",
   "metadata": {},
   "outputs": [],
   "source": []
  }
 ],
 "metadata": {
  "kernelspec": {
   "display_name": "Python 3",
   "language": "python",
   "name": "python3"
  },
  "language_info": {
   "codemirror_mode": {
    "name": "ipython",
    "version": 3
   },
   "file_extension": ".py",
   "mimetype": "text/x-python",
   "name": "python",
   "nbconvert_exporter": "python",
   "pygments_lexer": "ipython3",
   "version": "3.9.4"
  }
 },
 "nbformat": 4,
 "nbformat_minor": 5
}
