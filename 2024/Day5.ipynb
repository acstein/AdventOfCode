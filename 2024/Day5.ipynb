{
 "cells": [
  {
   "cell_type": "code",
   "execution_count": 60,
   "id": "692eae27-7fb7-4497-8618-36f6c3233175",
   "metadata": {},
   "outputs": [],
   "source": [
    "import numpy as np"
   ]
  },
  {
   "cell_type": "code",
   "execution_count": 64,
   "id": "872ad061-85de-422e-aa28-01e0beac6769",
   "metadata": {},
   "outputs": [
    {
     "name": "stdout",
     "output_type": "stream",
     "text": [
      "5509\n"
     ]
    }
   ],
   "source": [
    "\"\"\"\n",
    "Part 1\n",
    "\"\"\"\n",
    "with open(r\"C:\\Users\\alice\\OneDrive\\Desktop\\AoC\\2024Day5_1.txt\", 'r') as file:\n",
    "    rules = file.read()\n",
    "    rules = [list(map(int, r.split('|'))) for r in rules.split('\\n')]\n",
    "\n",
    "with open(r\"C:\\Users\\alice\\OneDrive\\Desktop\\AoC\\2024Day5_2.txt\", 'r') as file:\n",
    "    pages = file.read()\n",
    "    pages = [list(map(int, p.split(','))) for p in pages.split('\\n')]\n",
    "\n",
    "correct = 0\n",
    "for p in pages:\n",
    "    good = True\n",
    "    for r in rules:\n",
    "        if r[0] in p and r[1] in p:\n",
    "            if p.index(r[0]) > p.index(r[1]):\n",
    "                good = False\n",
    "                break\n",
    "    if good:\n",
    "        correct += p[len(p)//2]\n",
    "    \n",
    "print(correct)"
   ]
  },
  {
   "cell_type": "code",
   "execution_count": 65,
   "id": "0219baf4-fce1-4761-bf2d-82d9b7bf5c56",
   "metadata": {},
   "outputs": [
    {
     "name": "stdout",
     "output_type": "stream",
     "text": [
      "4407\n"
     ]
    }
   ],
   "source": [
    "\"\"\"\n",
    "Part 2\n",
    "\"\"\"\n",
    "correct = 0\n",
    "for p in pages:\n",
    "    bad = False\n",
    "    copy = p.copy()\n",
    "    for r in rules*4:\n",
    "        if r[0] in p and r[1] in p:\n",
    "            index1, index2 = copy.index(r[0]), copy.index(r[1])\n",
    "            if index1 > index2:\n",
    "                bad = True\n",
    "                copy[index1], copy[index2] = copy[index2], copy[index1]\n",
    "                \n",
    "    if bad:\n",
    "        correct += copy[len(p)//2]\n",
    "    \n",
    "print(correct)"
   ]
  },
  {
   "cell_type": "code",
   "execution_count": null,
   "id": "fd7609ec-e57d-43af-8d37-67ffbd7da608",
   "metadata": {},
   "outputs": [],
   "source": []
  }
 ],
 "metadata": {
  "kernelspec": {
   "display_name": "Python 3 (ipykernel)",
   "language": "python",
   "name": "python3"
  },
  "language_info": {
   "codemirror_mode": {
    "name": "ipython",
    "version": 3
   },
   "file_extension": ".py",
   "mimetype": "text/x-python",
   "name": "python",
   "nbconvert_exporter": "python",
   "pygments_lexer": "ipython3",
   "version": "3.12.4"
  }
 },
 "nbformat": 4,
 "nbformat_minor": 5
}
