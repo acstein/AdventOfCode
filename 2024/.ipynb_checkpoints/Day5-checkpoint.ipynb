{
 "cells": [
  {
   "cell_type": "code",
   "execution_count": 37,
   "id": "692eae27-7fb7-4497-8618-36f6c3233175",
   "metadata": {},
   "outputs": [],
   "source": [
    "import numpy as np"
   ]
  },
  {
   "cell_type": "code",
   "execution_count": 38,
   "id": "eb32394a-d1a6-4a49-bd7d-8a88e210aafd",
   "metadata": {},
   "outputs": [],
   "source": [
    "rules = '47|53 97|13 97|61 97|47 75|29 61|13 75|53 29|13 97|29 53|29 61|53 97|53 61|29 47|13 75|47 97|75 47|61 75|61 47|29 75|13 53|13'\n",
    "pages = [[75,47,61,53,29],\n",
    "[97,61,53,29,13],\n",
    "[75,29,13],\n",
    "[75,97,47,61,53],\n",
    "[61,13,29],\n",
    "[97,13,75,29,47]]\n",
    "rules = [list(map(int, r.split('|'))) for r in rules.split(' ')]"
   ]
  },
  {
   "cell_type": "code",
   "execution_count": 35,
   "id": "872ad061-85de-422e-aa28-01e0beac6769",
   "metadata": {},
   "outputs": [
    {
     "name": "stdout",
     "output_type": "stream",
     "text": [
      "5509\n"
     ]
    }
   ],
   "source": [
    "\"\"\"\n",
    "Part 1\n",
    "\"\"\"\n",
    "with open(r\"C:\\Users\\alice\\OneDrive\\Desktop\\AoC\\2024Day5_1.txt\", 'r') as file:\n",
    "    rules = file.read()\n",
    "    rules = [list(map(int, r.split('|'))) for r in rules.split('\\n')]\n",
    "\n",
    "with open(r\"C:\\Users\\alice\\OneDrive\\Desktop\\AoC\\2024Day5_2.txt\", 'r') as file:\n",
    "    pages = file.read()\n",
    "    pages = [list(map(int, p.split(','))) for p in pages.split('\\n')]\n",
    "\n",
    "correct = 0\n",
    "for p in pages:\n",
    "    good = True\n",
    "    for r in rules:\n",
    "        if r[0] in p and r[1] in p:\n",
    "            if p.index(r[0]) > p.index(r[1]):\n",
    "                good = False\n",
    "                break\n",
    "    if good:\n",
    "        correct += p[len(p)//2]\n",
    "    \n",
    "print(correct)"
   ]
  },
  {
   "cell_type": "code",
   "execution_count": 39,
   "id": "0219baf4-fce1-4761-bf2d-82d9b7bf5c56",
   "metadata": {
    "jupyter": {
     "source_hidden": true
    }
   },
   "outputs": [
    {
     "name": "stdout",
     "output_type": "stream",
     "text": [
      "\n",
      "\n",
      "\n",
      "\n",
      "before pop [75, 97, 47, 61, 53]\n",
      "after pop [97, 47, 61, 53]\n",
      "after append [97, 75, 47, 61, 53]\n",
      "\n",
      "before pop [61, 13, 29]\n",
      "after pop [61, 29]\n",
      "after append [61, 29, 13]\n",
      "\n",
      "before pop [97, 13, 75, 29, 47]\n",
      "after pop [97, 75, 29, 47]\n",
      "after append [97, 75, 13, 29, 47]\n",
      "before pop [97, 75, 13, 29, 47]\n",
      "after pop [97, 75, 29, 47]\n",
      "after append [97, 75, 29, 13, 47]\n",
      "before pop [97, 75, 29, 13, 47]\n",
      "after pop [97, 75, 13, 47]\n",
      "after append [97, 75, 13, 29, 47]\n",
      "before pop [97, 75, 13, 29, 47]\n",
      "after pop [97, 75, 29, 47]\n",
      "after append [97, 75, 29, 13, 47]\n",
      "before pop [97, 75, 29, 13, 47]\n",
      "after pop [97, 75, 29, 47]\n",
      "after append [97, 75, 29, 47, 13]\n",
      "before pop [97, 75, 29, 47, 13]\n",
      "after pop [97, 75, 47, 13]\n",
      "after append [97, 75, 47, 29, 13]\n",
      "123\n"
     ]
    }
   ],
   "source": [
    "\"\"\"\n",
    "Part 2\n",
    "\"\"\"\n",
    "correct = 0\n",
    "for p in pages:\n",
    "    print()\n",
    "    bad = False\n",
    "    copy = p.copy()\n",
    "    for r in rules:\n",
    "        if r[0] in p and r[1] in p:\n",
    "            rule1 = r[0]\n",
    "            rule2 = r[1]\n",
    "            index2 = copy.index(rule2)\n",
    "            if copy.index(rule1) > index2:\n",
    "                bad = True\n",
    "                print('before pop', copy)\n",
    "                copy.pop(index2)\n",
    "                print('after pop', copy)\n",
    "                copy.insert(index2+1, rule2)\n",
    "                print('after append', copy)\n",
    "                \n",
    "    if bad:\n",
    "        for r in rules:\n",
    "            if r[0] in p and r[1] in p:\n",
    "                rule1 = r[0]\n",
    "                rule2 = r[1]\n",
    "                index2 = copy.index(rule2)\n",
    "                if copy.index(rule1) > index2:\n",
    "                    print('before pop', copy)\n",
    "                    copy.pop(index2)\n",
    "                    print('after pop', copy)\n",
    "                    copy.insert(index2+1, rule2)\n",
    "                    print('after append', copy)\n",
    "        correct += copy[len(p)//2]\n",
    "    \n",
    "print(correct)"
   ]
  },
  {
   "cell_type": "code",
   "execution_count": null,
   "id": "6a7bde0b-b97e-43eb-9f0b-a44431b3b9b3",
   "metadata": {},
   "outputs": [],
   "source": []
  }
 ],
 "metadata": {
  "kernelspec": {
   "display_name": "Python 3 (ipykernel)",
   "language": "python",
   "name": "python3"
  },
  "language_info": {
   "codemirror_mode": {
    "name": "ipython",
    "version": 3
   },
   "file_extension": ".py",
   "mimetype": "text/x-python",
   "name": "python",
   "nbconvert_exporter": "python",
   "pygments_lexer": "ipython3",
   "version": "3.12.4"
  }
 },
 "nbformat": 4,
 "nbformat_minor": 5
}
