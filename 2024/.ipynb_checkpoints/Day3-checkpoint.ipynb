{
 "cells": [
  {
   "cell_type": "code",
   "execution_count": 2,
   "id": "3b5d2a09-baf5-4781-9296-d5ed27e4ab58",
   "metadata": {},
   "outputs": [],
   "source": [
    "import numpy as np\n",
    "import re"
   ]
  },
  {
   "cell_type": "code",
   "execution_count": 3,
   "id": "b4e2e01f-0cac-4aaa-a987-e8aed7ceedce",
   "metadata": {},
   "outputs": [],
   "source": [
    "with open(r\"C:\\Users\\alice\\OneDrive\\Desktop\\2024Day3.txt\", 'r') as file:\n",
    "    test = file.read()"
   ]
  },
  {
   "cell_type": "code",
   "execution_count": 4,
   "id": "bf0efbab-c0d2-42c2-be42-eb51309439b6",
   "metadata": {},
   "outputs": [
    {
     "name": "stdout",
     "output_type": "stream",
     "text": [
      "179571322\n"
     ]
    }
   ],
   "source": [
    "\"\"\"\n",
    "Part 1\n",
    "\"\"\"\n",
    "\n",
    "total = 0\n",
    "phrases = re.finditer(r'mul\\((\\d{1,3}),(\\d{1,3})\\)', test)\n",
    "for p in phrases:\n",
    "    answer = int(p.group(1)) * int(p.group(2))\n",
    "    total += answer\n",
    "\n",
    "print(total)"
   ]
  },
  {
   "cell_type": "code",
   "execution_count": 5,
   "id": "e91e186e-d65a-4e6f-802d-4617e0c5d1b7",
   "metadata": {},
   "outputs": [
    {
     "name": "stdout",
     "output_type": "stream",
     "text": [
      "103811193\n"
     ]
    }
   ],
   "source": [
    "\"\"\"\n",
    "Part 2\n",
    "\"\"\"\n",
    "phrases = re.finditer(r'mul\\((\\d{1,3}),(\\d{1,3})\\)', test)\n",
    "dos = re.finditer(r'(do\\(\\))', test)\n",
    "donts = re.finditer(r'(don\\'t\\(\\))', test)\n",
    "\n",
    "do = [(d.start(1), True) for d in dos]\n",
    "dont = [(d.start(1), False) for d in donts]\n",
    "both = sorted(do + dont)\n",
    "#print(both)\n",
    "\n",
    "previous = True\n",
    "i = 0\n",
    "for j in range(len(both)):\n",
    "    if both[i][1] == previous:\n",
    "        both.pop(i)\n",
    "    else:\n",
    "        previous = both[i][1]\n",
    "        i += 1\n",
    "\n",
    "indices = []\n",
    "for i, x in enumerate(both[::2]):\n",
    "    indices.append([x[0], both[i+i+1][0]])\n",
    "\n",
    "#print(indices)\n",
    "total = 0\n",
    "for p in phrases:\n",
    "    count = True\n",
    "    index = p.start(1)\n",
    "\n",
    "    for i in indices:\n",
    "        if i[0] < index < i[1]:\n",
    "            count = False\n",
    "\n",
    "    if count:\n",
    "        answer = int(p.group(1)) * int(p.group(2))\n",
    "        total += answer\n",
    "\n",
    "print(total)"
   ]
  },
  {
   "cell_type": "code",
   "execution_count": null,
   "id": "efa0b72c-490e-4968-b25a-8849fcaf9ae4",
   "metadata": {},
   "outputs": [],
   "source": []
  }
 ],
 "metadata": {
  "kernelspec": {
   "display_name": "Python 3 (ipykernel)",
   "language": "python",
   "name": "python3"
  },
  "language_info": {
   "codemirror_mode": {
    "name": "ipython",
    "version": 3
   },
   "file_extension": ".py",
   "mimetype": "text/x-python",
   "name": "python",
   "nbconvert_exporter": "python",
   "pygments_lexer": "ipython3",
   "version": "3.12.4"
  }
 },
 "nbformat": 4,
 "nbformat_minor": 5
}
