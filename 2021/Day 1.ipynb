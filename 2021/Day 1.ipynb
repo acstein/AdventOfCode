{
 "cells": [
  {
   "cell_type": "code",
   "execution_count": 4,
   "id": "d7a44452",
   "metadata": {},
   "outputs": [],
   "source": [
    "import numpy as np\n",
    "import pandas as pd"
   ]
  },
  {
   "cell_type": "code",
   "execution_count": 62,
   "id": "6098cc6e",
   "metadata": {},
   "outputs": [],
   "source": [
    "def find_increase(df):\n",
    "    change = df.diff()\n",
    "    return len(change[change.values > 0])"
   ]
  },
  {
   "cell_type": "code",
   "execution_count": 65,
   "id": "5ee73d83",
   "metadata": {},
   "outputs": [],
   "source": [
    "def find_average_change(df):\n",
    "    ave = df.rolling(window=3).sum()\n",
    "    return ave"
   ]
  },
  {
   "cell_type": "code",
   "execution_count": 66,
   "id": "04643574",
   "metadata": {},
   "outputs": [
    {
     "name": "stdout",
     "output_type": "stream",
     "text": [
      "1702\n"
     ]
    }
   ],
   "source": [
    "numbers = pd.read_excel(r'C:\\Users\\astein\\Desktop\\AdventofCode.xlsx', header=None)\n",
    "numbers.columns = ['values']\n",
    "\n",
    "aved_df = find_average_change(numbers)\n",
    "aved_df = aved_df.dropna()\n",
    "print(find_increase(aved_df))"
   ]
  },
  {
   "cell_type": "code",
   "execution_count": null,
   "id": "6f710094",
   "metadata": {},
   "outputs": [],
   "source": []
  }
 ],
 "metadata": {
  "kernelspec": {
   "display_name": "Python 3",
   "language": "python",
   "name": "python3"
  },
  "language_info": {
   "codemirror_mode": {
    "name": "ipython",
    "version": 3
   },
   "file_extension": ".py",
   "mimetype": "text/x-python",
   "name": "python",
   "nbconvert_exporter": "python",
   "pygments_lexer": "ipython3",
   "version": "3.9.4"
  }
 },
 "nbformat": 4,
 "nbformat_minor": 5
}
