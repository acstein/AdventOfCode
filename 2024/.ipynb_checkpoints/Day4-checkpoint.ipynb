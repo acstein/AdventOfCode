{
 "cells": [
  {
   "cell_type": "code",
   "execution_count": 118,
   "id": "ac43560b-ca70-495c-9126-145edb3261ec",
   "metadata": {},
   "outputs": [],
   "source": [
    "import numpy as np"
   ]
  },
  {
   "cell_type": "code",
   "execution_count": 140,
   "id": "3432f45a-269e-49cf-9658-3aa38f16ca60",
   "metadata": {},
   "outputs": [],
   "source": [
    "grid = ['MMMSXXMASM',\n",
    "'MSAMXMSMSA',\n",
    "'AMXSXMAAMM',\n",
    "'MSAMASMSMX',\n",
    "'XMASAMXAMM',\n",
    "'XXAMMXXAMA',\n",
    "'SMSMSASXSS',\n",
    "'SAXAMASAAA',\n",
    "'MAMMMXMMMM',\n",
    "'MXMXAXMASX']\n",
    "\n",
    "with open(r\"C:\\Users\\alice\\OneDrive\\Desktop\\AoC\\2024Day4.txt\", 'r') as file:\n",
    "    test = file.read().split('\\n')\n",
    "\n",
    "grid = np.array([[p for p in g] for g in grid])"
   ]
  },
  {
   "cell_type": "code",
   "execution_count": 136,
   "id": "42268ae9-bb8f-4d6b-8854-ce6f1caa6092",
   "metadata": {},
   "outputs": [],
   "source": [
    "phrase = ['X', 'M', 'A', 'S']\n",
    "\n",
    "count = 0\n",
    "rows, cols = grid.shape\n",
    "\n",
    "# DIAGONAL\n",
    "for i in range(rows-3):\n",
    "    for j in range(cols-3):\n",
    "        window = grid[i:i+4, j:j+4]\n",
    "        diagonal = [window[0][0], window[1][1], window[2][2], window[3][3]]\n",
    "        reverse_diagonal = [window[3][0], window[2][1], window[1][2], window[0][3]]\n",
    "        flip_diagonal = reverse_diagonal[::-1]\n",
    "        flip_reverse_diagonal = diagonal[::-1]\n",
    "\n",
    "        if diagonal == phrase:\n",
    "            count += 1\n",
    "        if reverse_diagonal == phrase:\n",
    "            count += 1\n",
    "        if flip_diagonal == phrase:\n",
    "            count += 1\n",
    "        if flip_reverse_diagonal == phrase:\n",
    "            count += 1\n",
    "\n",
    "# HORIZONTAL\n",
    "for i in range(rows):\n",
    "    for j in range(cols-3):\n",
    "        w = grid[i, j:j+4]\n",
    "        if all(w == phrase):\n",
    "            count += 1\n",
    "        if all(w[::-1] == phrase):\n",
    "            count += 1\n",
    "\n",
    "# UP + DOWN\n",
    "rotated = np.array(list(map(list, zip(*grid)))[::-1])\n",
    "for i in range(cols):\n",
    "    for j in range(rows-3):\n",
    "        w = rotated[i, j:j+4]\n",
    "        if all(w == phrase):\n",
    "            count += 1\n",
    "        if all(w[::-1] == phrase):\n",
    "            count += 1\n",
    "\n",
    "print(count)"
   ]
  },
  {
   "cell_type": "code",
   "execution_count": 145,
   "id": "b6e9a3ca-bb1f-4593-bccd-15bbf8f8237b",
   "metadata": {},
   "outputs": [
    {
     "name": "stdout",
     "output_type": "stream",
     "text": [
      "0\n"
     ]
    }
   ],
   "source": [
    "phrase = ['M', 'A', 'S']\n",
    "\n",
    "count = 0\n",
    "rows, cols = grid.shape\n",
    "\n",
    "# DIAGONAL\n",
    "for i in range(rows-2):\n",
    "    for j in range(cols-2):\n",
    "        window = grid[i:i+3, j:j+3]\n",
    "        \n",
    "        \n",
    "\n",
    "print(count)"
   ]
  },
  {
   "cell_type": "code",
   "execution_count": null,
   "id": "2af0260e-9912-4e78-ba99-5acc49b07531",
   "metadata": {},
   "outputs": [],
   "source": []
  }
 ],
 "metadata": {
  "kernelspec": {
   "display_name": "Python 3 (ipykernel)",
   "language": "python",
   "name": "python3"
  },
  "language_info": {
   "codemirror_mode": {
    "name": "ipython",
    "version": 3
   },
   "file_extension": ".py",
   "mimetype": "text/x-python",
   "name": "python",
   "nbconvert_exporter": "python",
   "pygments_lexer": "ipython3",
   "version": "3.12.4"
  }
 },
 "nbformat": 4,
 "nbformat_minor": 5
}
