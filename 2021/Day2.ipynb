{
 "cells": [
  {
   "cell_type": "code",
   "execution_count": 1,
   "id": "8e357a60",
   "metadata": {},
   "outputs": [],
   "source": [
    "import pandas as pd\n",
    "import numpy as np"
   ]
  },
  {
   "cell_type": "code",
   "execution_count": 6,
   "id": "d48e7830",
   "metadata": {},
   "outputs": [],
   "source": [
    "class Sub:\n",
    "    def __init__(self):\n",
    "        self.horizontal = 0\n",
    "        self.depth = 0\n",
    "        self.aim = 0\n",
    "    \n",
    "    def go_forward(self, units):\n",
    "        self.horizontal += units\n",
    "        self.depth += self.aim * units\n",
    "        \n",
    "    def go_down(self, units):\n",
    "        self.aim += units\n",
    "        \n",
    "    def go_up(self, units):\n",
    "        self.aim -= units\n",
    "        \n",
    "    def read_instruction(self, instruction):\n",
    "        comand, unit = instruction.split(' ')\n",
    "        unit = int(unit)\n",
    "        if comand == 'forward':\n",
    "            self.go_forward(unit)\n",
    "        elif comand == 'down':\n",
    "            self.go_down(unit)\n",
    "        elif comand == 'up':\n",
    "            self.go_up(unit)"
   ]
  },
  {
   "cell_type": "code",
   "execution_count": 8,
   "id": "dca38f31",
   "metadata": {},
   "outputs": [
    {
     "name": "stdout",
     "output_type": "stream",
     "text": [
      "1970 1000556\n",
      "1971095320\n"
     ]
    }
   ],
   "source": [
    "ob = Sub()\n",
    "\n",
    "instructions = pd.read_excel(r'C:\\Users\\astein\\Desktop\\AdventofCode.xlsx', header=None, sheet_name='Sheet2')\n",
    "for i in instructions[0]:\n",
    "    ob.read_instruction(i)\n",
    "\n",
    "print(ob.horizontal, ob.depth)\n",
    "print(ob.horizontal*ob.depth)"
   ]
  },
  {
   "cell_type": "code",
   "execution_count": null,
   "id": "efaadf48",
   "metadata": {},
   "outputs": [],
   "source": []
  }
 ],
 "metadata": {
  "kernelspec": {
   "display_name": "Python 3",
   "language": "python",
   "name": "python3"
  },
  "language_info": {
   "codemirror_mode": {
    "name": "ipython",
    "version": 3
   },
   "file_extension": ".py",
   "mimetype": "text/x-python",
   "name": "python",
   "nbconvert_exporter": "python",
   "pygments_lexer": "ipython3",
   "version": "3.9.4"
  }
 },
 "nbformat": 4,
 "nbformat_minor": 5
}
