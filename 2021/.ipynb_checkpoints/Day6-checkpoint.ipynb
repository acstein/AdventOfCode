{
 "cells": [
  {
   "cell_type": "code",
   "execution_count": 2,
   "id": "bb5f3e8c",
   "metadata": {},
   "outputs": [],
   "source": [
    "import numpy as np\n",
    "import pandas as pd"
   ]
  },
  {
   "cell_type": "code",
   "execution_count": 18,
   "id": "318048b4",
   "metadata": {
    "scrolled": true
   },
   "outputs": [],
   "source": [
    "class Fish:\n",
    "    def __init__(self, fish):\n",
    "        self.fish = fish\n",
    "        \n",
    "    def day_passes(self):\n",
    "        for f in self.fish:\n",
    "            if f.day_passes():\n",
    "                self.fish.append(LaternFish(9))\n",
    "            #print(f.days, end=' ')\n",
    "        #print()\n",
    "    \n",
    "    def fishies(self):\n",
    "        print(len(self.fish))\n",
    "        \n",
    "class LaternFish:\n",
    "    def __init__(self, days):\n",
    "        self.days = days\n",
    "        \n",
    "    def day_passes(self):\n",
    "        if self.days == 0:\n",
    "            self.days = 6\n",
    "            return True\n",
    "        else:\n",
    "            self.days -= 1"
   ]
  },
  {
   "cell_type": "code",
   "execution_count": 37,
   "id": "a8573275",
   "metadata": {},
   "outputs": [],
   "source": [
    "fish = [3,1,4,2,1,1,1,1,1,1,1,4,1,4,1,2,1,1,2,1,3,4,5,1,1,4,1,3,3,1,1,1,1,3,3,1,3,3,1,5,5,1,1,3,1,1,2,1,1,1,3,1,4,3,2,1,4,3,3,1,1,1,1,5,1,4,1,1,1,4,1,4,4,1,5,1,1,4,5,1,1,2,1,1,1,4,1,2,1,1,1,1,1,1,5,1,3,1,1,4,4,1,1,5,1,2,1,1,1,1,5,1,3,1,1,1,2,2,1,4,1,3,1,4,1,2,1,1,1,1,1,3,2,5,4,4,1,3,2,1,4,1,3,1,1,1,2,1,1,5,1,2,1,1,1,2,1,4,3,1,1,1,4,1,1,1,1,1,2,2,1,1,5,1,1,3,1,2,5,5,1,4,1,1,1,1,1,2,1,1,1,1,4,5,1,1,1,1,1,1,1,1,1,3,4,4,1,1,4,1,3,4,1,5,4,2,5,1,2,1,1,1,1,1,1,4,3,2,1,1,3,2,5,2,5,5,1,3,1,2,1,1,1,1,1,1,1,1,1,3,1,1,1,3,1,4,1,4,2,1,3,4,1,1,1,2,3,1,1,1,4,1,2,5,1,2,1,5,1,1,2,1,2,1,1,1,1,4,3,4,1,5,5,4,1,1,5,2,1,3]"
   ]
  },
  {
   "cell_type": "code",
   "execution_count": 25,
   "id": "e162d449",
   "metadata": {},
   "outputs": [
    {
     "name": "stdout",
     "output_type": "stream",
     "text": [
      "880136\n"
     ]
    }
   ],
   "source": [
    "fish_list = [LaternFish(f) for f in fish]\n",
    "f = Fish(fish_list)\n",
    "\n",
    "for d in range(256):\n",
    "    f.day_passes()\n",
    "    \n",
    "f.fishies()"
   ]
  },
  {
   "cell_type": "code",
   "execution_count": 44,
   "id": "985cd43a",
   "metadata": {},
   "outputs": [
    {
     "name": "stdout",
     "output_type": "stream",
     "text": [
      "starting fish: [0, 1, 4, 2, 3, 4, 2, 0, 0]\n",
      "popping number: 0 new fishies below:\n",
      "[0, 1, 2, 3, 4, 5, 6, 7, 8]\n",
      "[1, 4, 2, 3, 4, 2, 0, 0, 0]\n",
      "popping number: 1 new fishies below:\n",
      "[0, 1, 2, 3, 4, 5, 6, 7, 8]\n",
      "[4, 2, 3, 4, 2, 0, 1, 0, 1]\n",
      "popping number: 4 new fishies below:\n",
      "[0, 1, 2, 3, 4, 5, 6, 7, 8]\n",
      "[2, 3, 4, 2, 0, 1, 4, 1, 4]\n",
      "popping number: 2 new fishies below:\n",
      "[0, 1, 2, 3, 4, 5, 6, 7, 8]\n",
      "[3, 4, 2, 0, 1, 4, 3, 4, 2]\n",
      "popping number: 3 new fishies below:\n",
      "[0, 1, 2, 3, 4, 5, 6, 7, 8]\n",
      "[4, 2, 0, 1, 4, 3, 7, 2, 3]\n",
      "26\n"
     ]
    }
   ],
   "source": [
    "fish = [5,4,2,3,4,5,6,2,1,2,2,3,4,5,6,5]\n",
    "fish = [fish.count(i) for i in range(9)]\n",
    "print('starting fish:', fish)\n",
    "for i in range(5):\n",
    "    num = fish.pop(0)\n",
    "    print('popping number:', num, 'new fishies below:')\n",
    "    fish[6] += num\n",
    "    fish.append(num)\n",
    "    assert len(fish) == 9\n",
    "    print([0,1,2,3,4,5,6,7,8])\n",
    "    print(fish)\n",
    "    \n",
    "print(sum(fish))"
   ]
  },
  {
   "cell_type": "code",
   "execution_count": null,
   "id": "f69d3faf",
   "metadata": {},
   "outputs": [],
   "source": []
  }
 ],
 "metadata": {
  "kernelspec": {
   "display_name": "Python 3",
   "language": "python",
   "name": "python3"
  },
  "language_info": {
   "codemirror_mode": {
    "name": "ipython",
    "version": 3
   },
   "file_extension": ".py",
   "mimetype": "text/x-python",
   "name": "python",
   "nbconvert_exporter": "python",
   "pygments_lexer": "ipython3",
   "version": "3.9.4"
  }
 },
 "nbformat": 4,
 "nbformat_minor": 5
}
